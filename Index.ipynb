{
 "cells": [
  {
   "cell_type": "markdown",
   "metadata": {},
   "source": [
    "# Coefficients of Dropped Categorical Variables\n",
    "\n",
    "So, you've dropped some columns after one-hot encoding.  What if you need the value of those columns' coefficients from a linear regression?"
   ]
  },
  {
   "cell_type": "markdown",
   "metadata": {},
   "source": [
    "### The Dataset\n",
    "\n",
    "Info provided when I downloaded it was:\n",
    "\n",
    "Thunder Basin Antelope Study\n",
    "\n",
    "The data (X1, X2, X3, X4) are for each year.\n",
    "\n",
    " - X1 = spring fawn count/100\n",
    " - X2 = size of adult antelope population/100\n",
    " - X3 = annual precipitation (inches)\n",
    " - X4 = winter severity index (1=mild, 5=severe)"
   ]
  },
  {
   "cell_type": "code",
   "execution_count": 1,
   "metadata": {},
   "outputs": [],
   "source": [
    "import pandas as pd\n",
    "import statsmodels.api as sm"
   ]
  },
  {
   "cell_type": "code",
   "execution_count": 2,
   "metadata": {},
   "outputs": [],
   "source": [
    "antelope_df = pd.read_csv(\"antelope_study.csv\")"
   ]
  },
  {
   "cell_type": "markdown",
   "metadata": {},
   "source": [
    "The export format gave us an extra empty row and empty column, drop them"
   ]
  },
  {
   "cell_type": "code",
   "execution_count": 3,
   "metadata": {},
   "outputs": [],
   "source": [
    "antelope_df = antelope_df.drop(\"Unnamed: 4\", axis=1).drop(8)"
   ]
  },
  {
   "cell_type": "markdown",
   "metadata": {},
   "source": [
    "Set the column names to something human-readable"
   ]
  },
  {
   "cell_type": "code",
   "execution_count": 4,
   "metadata": {},
   "outputs": [],
   "source": [
    "antelope_df.columns = [\n",
    "    \"spring_fawn_count\", \n",
    "    \"adult_antelope_population\", \n",
    "    \"annual_precipitation\",\n",
    "    \"winter_severity_index\"\n",
    "]"
   ]
  },
  {
   "cell_type": "markdown",
   "metadata": {},
   "source": [
    "Artificially turning a numeric variable to a categorical variable (two different versions), for example purposes"
   ]
  },
  {
   "cell_type": "code",
   "execution_count": 5,
   "metadata": {},
   "outputs": [],
   "source": [
    "antelope_df[\"low_precipitation\"] = [int(x < 12) for x in antelope_df[\"annual_precipitation\"]]\n",
    "antelope_df[\"high_precipitation\"] = [int(x >= 12) for x in antelope_df[\"annual_precipitation\"]]\n",
    "antelope_df = antelope_df.drop(\"annual_precipitation\", axis=1)"
   ]
  },
  {
   "cell_type": "markdown",
   "metadata": {},
   "source": [
    "One-hot encode the \"winter severity index\""
   ]
  },
  {
   "cell_type": "code",
   "execution_count": 6,
   "metadata": {},
   "outputs": [],
   "source": [
    "winter_severity_df = pd.get_dummies(antelope_df[\"winter_severity_index\"].apply(int))\n",
    "antelope_df = antelope_df.join(winter_severity_df)\n",
    "antelope_df = antelope_df.drop(\"winter_severity_index\", axis=1)"
   ]
  },
  {
   "cell_type": "markdown",
   "metadata": {},
   "source": [
    "So the final \"full\" dataframe looks like:"
   ]
  },
  {
   "cell_type": "code",
   "execution_count": 7,
   "metadata": {},
   "outputs": [
    {
     "data": {
      "text/html": [
       "<div>\n",
       "<style scoped>\n",
       "    .dataframe tbody tr th:only-of-type {\n",
       "        vertical-align: middle;\n",
       "    }\n",
       "\n",
       "    .dataframe tbody tr th {\n",
       "        vertical-align: top;\n",
       "    }\n",
       "\n",
       "    .dataframe thead th {\n",
       "        text-align: right;\n",
       "    }\n",
       "</style>\n",
       "<table border=\"1\" class=\"dataframe\">\n",
       "  <thead>\n",
       "    <tr style=\"text-align: right;\">\n",
       "      <th></th>\n",
       "      <th>spring_fawn_count</th>\n",
       "      <th>adult_antelope_population</th>\n",
       "      <th>low_precipitation</th>\n",
       "      <th>high_precipitation</th>\n",
       "      <th>1</th>\n",
       "      <th>2</th>\n",
       "      <th>3</th>\n",
       "      <th>4</th>\n",
       "      <th>5</th>\n",
       "    </tr>\n",
       "  </thead>\n",
       "  <tbody>\n",
       "    <tr>\n",
       "      <th>0</th>\n",
       "      <td>2.9</td>\n",
       "      <td>9.2</td>\n",
       "      <td>0</td>\n",
       "      <td>1</td>\n",
       "      <td>0</td>\n",
       "      <td>1</td>\n",
       "      <td>0</td>\n",
       "      <td>0</td>\n",
       "      <td>0</td>\n",
       "    </tr>\n",
       "    <tr>\n",
       "      <th>1</th>\n",
       "      <td>2.4</td>\n",
       "      <td>8.7</td>\n",
       "      <td>1</td>\n",
       "      <td>0</td>\n",
       "      <td>0</td>\n",
       "      <td>0</td>\n",
       "      <td>1</td>\n",
       "      <td>0</td>\n",
       "      <td>0</td>\n",
       "    </tr>\n",
       "    <tr>\n",
       "      <th>2</th>\n",
       "      <td>2.0</td>\n",
       "      <td>7.2</td>\n",
       "      <td>1</td>\n",
       "      <td>0</td>\n",
       "      <td>0</td>\n",
       "      <td>0</td>\n",
       "      <td>0</td>\n",
       "      <td>1</td>\n",
       "      <td>0</td>\n",
       "    </tr>\n",
       "    <tr>\n",
       "      <th>3</th>\n",
       "      <td>2.3</td>\n",
       "      <td>8.5</td>\n",
       "      <td>0</td>\n",
       "      <td>1</td>\n",
       "      <td>0</td>\n",
       "      <td>1</td>\n",
       "      <td>0</td>\n",
       "      <td>0</td>\n",
       "      <td>0</td>\n",
       "    </tr>\n",
       "    <tr>\n",
       "      <th>4</th>\n",
       "      <td>3.2</td>\n",
       "      <td>9.6</td>\n",
       "      <td>0</td>\n",
       "      <td>1</td>\n",
       "      <td>0</td>\n",
       "      <td>0</td>\n",
       "      <td>1</td>\n",
       "      <td>0</td>\n",
       "      <td>0</td>\n",
       "    </tr>\n",
       "    <tr>\n",
       "      <th>5</th>\n",
       "      <td>1.9</td>\n",
       "      <td>6.8</td>\n",
       "      <td>1</td>\n",
       "      <td>0</td>\n",
       "      <td>0</td>\n",
       "      <td>0</td>\n",
       "      <td>0</td>\n",
       "      <td>0</td>\n",
       "      <td>1</td>\n",
       "    </tr>\n",
       "    <tr>\n",
       "      <th>6</th>\n",
       "      <td>3.4</td>\n",
       "      <td>9.7</td>\n",
       "      <td>0</td>\n",
       "      <td>1</td>\n",
       "      <td>1</td>\n",
       "      <td>0</td>\n",
       "      <td>0</td>\n",
       "      <td>0</td>\n",
       "      <td>0</td>\n",
       "    </tr>\n",
       "    <tr>\n",
       "      <th>7</th>\n",
       "      <td>2.1</td>\n",
       "      <td>7.9</td>\n",
       "      <td>1</td>\n",
       "      <td>0</td>\n",
       "      <td>0</td>\n",
       "      <td>0</td>\n",
       "      <td>1</td>\n",
       "      <td>0</td>\n",
       "      <td>0</td>\n",
       "    </tr>\n",
       "  </tbody>\n",
       "</table>\n",
       "</div>"
      ],
      "text/plain": [
       "   spring_fawn_count  adult_antelope_population  low_precipitation  \\\n",
       "0                2.9                        9.2                  0   \n",
       "1                2.4                        8.7                  1   \n",
       "2                2.0                        7.2                  1   \n",
       "3                2.3                        8.5                  0   \n",
       "4                3.2                        9.6                  0   \n",
       "5                1.9                        6.8                  1   \n",
       "6                3.4                        9.7                  0   \n",
       "7                2.1                        7.9                  1   \n",
       "\n",
       "   high_precipitation  1  2  3  4  5  \n",
       "0                   1  0  1  0  0  0  \n",
       "1                   0  0  0  1  0  0  \n",
       "2                   0  0  0  0  1  0  \n",
       "3                   1  0  1  0  0  0  \n",
       "4                   1  0  0  1  0  0  \n",
       "5                   0  0  0  0  0  1  \n",
       "6                   1  1  0  0  0  0  \n",
       "7                   0  0  0  1  0  0  "
      ]
     },
     "execution_count": 7,
     "metadata": {},
     "output_type": "execute_result"
    }
   ],
   "source": [
    "antelope_df"
   ]
  },
  {
   "cell_type": "markdown",
   "metadata": {},
   "source": [
    "(Yes it's quite small and maybe I should redo this with a bigger dataset)"
   ]
  },
  {
   "cell_type": "markdown",
   "metadata": {},
   "source": [
    "There would be issues if I passed all of the current features into a linear regression, since `low_precipitation` perfectly explains everything in `high_precipitation` (and vice versa), plus each of the \"winter severity index\" columns is perfectly explained by the other four.  But all of the following models will only be build with a subset of this full dataframe"
   ]
  },
  {
   "cell_type": "markdown",
   "metadata": {},
   "source": [
    "For all of the following models, the target variable is `spring_fawn_count`"
   ]
  },
  {
   "cell_type": "code",
   "execution_count": 8,
   "metadata": {},
   "outputs": [],
   "source": [
    "y = antelope_df[\"spring_fawn_count\"]"
   ]
  },
  {
   "cell_type": "markdown",
   "metadata": {},
   "source": [
    "## Model 1\n",
    "\n",
    "The first model is just taking in the numeric `adult_antelope_population` input in order to predict `spring_fawn_count`"
   ]
  },
  {
   "cell_type": "code",
   "execution_count": 9,
   "metadata": {},
   "outputs": [
    {
     "name": "stdout",
     "output_type": "stream",
     "text": [
      "                            OLS Regression Results                            \n",
      "==============================================================================\n",
      "Dep. Variable:      spring_fawn_count   R-squared:                       0.881\n",
      "Model:                            OLS   Adj. R-squared:                  0.862\n",
      "Method:                 Least Squares   F-statistic:                     44.56\n",
      "Date:                Tue, 03 Dec 2019   Prob (F-statistic):           0.000547\n",
      "Time:                        17:07:09   Log-Likelihood:                 2.2043\n",
      "No. Observations:                   8   AIC:                           -0.4086\n",
      "Df Residuals:                       6   BIC:                           -0.2498\n",
      "Df Model:                           1                                         \n",
      "Covariance Type:            nonrobust                                         \n",
      "=============================================================================================\n",
      "                                coef    std err          t      P>|t|      [0.025      0.975]\n",
      "---------------------------------------------------------------------------------------------\n",
      "const                        -1.6791      0.634     -2.648      0.038      -3.231      -0.127\n",
      "adult_antelope_population     0.4975      0.075      6.676      0.001       0.315       0.680\n",
      "==============================================================================\n",
      "Omnibus:                        1.796   Durbin-Watson:                   2.235\n",
      "Prob(Omnibus):                  0.407   Jarque-Bera (JB):                0.749\n",
      "Skew:                          -0.178   Prob(JB):                        0.688\n",
      "Kurtosis:                       1.544   Cond. No.                         72.9\n",
      "==============================================================================\n",
      "\n",
      "Warnings:\n",
      "[1] Standard Errors assume that the covariance matrix of the errors is correctly specified.\n"
     ]
    },
    {
     "name": "stderr",
     "output_type": "stream",
     "text": [
      "//anaconda3/envs/mod2-project-env/lib/python3.8/site-packages/numpy/core/fromnumeric.py:2495: FutureWarning: Method .ptp is deprecated and will be removed in a future version. Use numpy.ptp instead.\n",
      "  return ptp(axis=axis, out=out, **kwargs)\n",
      "//anaconda3/envs/mod2-project-env/lib/python3.8/site-packages/scipy/stats/stats.py:1449: UserWarning: kurtosistest only valid for n>=20 ... continuing anyway, n=8\n",
      "  warnings.warn(\"kurtosistest only valid for n>=20 ... continuing \"\n"
     ]
    }
   ],
   "source": [
    "X1 = antelope_df[[\"adult_antelope_population\"]]\n",
    "X1 = sm.add_constant(X1)\n",
    "\n",
    "model1 = sm.OLS(y, X1)\n",
    "results1 = model1.fit()\n",
    "print(results1.summary())"
   ]
  },
  {
   "cell_type": "markdown",
   "metadata": {},
   "source": [
    "We could interpret this model as saying, _each additional 100 adult antelopes is associated with an increase of 50 (rounded from 49.75) spring fawns_"
   ]
  },
  {
   "cell_type": "markdown",
   "metadata": {},
   "source": [
    "## Model 2\n",
    "\n",
    "Now let's add the `low_precipitation` feature"
   ]
  },
  {
   "cell_type": "code",
   "execution_count": 10,
   "metadata": {},
   "outputs": [
    {
     "name": "stdout",
     "output_type": "stream",
     "text": [
      "                            OLS Regression Results                            \n",
      "==============================================================================\n",
      "Dep. Variable:      spring_fawn_count   R-squared:                       0.888\n",
      "Model:                            OLS   Adj. R-squared:                  0.844\n",
      "Method:                 Least Squares   F-statistic:                     19.88\n",
      "Date:                Tue, 03 Dec 2019   Prob (F-statistic):            0.00417\n",
      "Time:                        17:09:09   Log-Likelihood:                 2.4459\n",
      "No. Observations:                   8   AIC:                             1.108\n",
      "Df Residuals:                       5   BIC:                             1.346\n",
      "Df Model:                           2                                         \n",
      "Covariance Type:            nonrobust                                         \n",
      "=============================================================================================\n",
      "                                coef    std err          t      P>|t|      [0.025      0.975]\n",
      "---------------------------------------------------------------------------------------------\n",
      "const                        -1.1163      1.213     -0.920      0.400      -4.235       2.003\n",
      "adult_antelope_population     0.4396      0.131      3.366      0.020       0.104       0.775\n",
      "low_precipitation            -0.1466      0.263     -0.558      0.601      -0.822       0.529\n",
      "==============================================================================\n",
      "Omnibus:                        0.411   Durbin-Watson:                   2.269\n",
      "Prob(Omnibus):                  0.814   Jarque-Bera (JB):                0.459\n",
      "Skew:                          -0.338   Prob(JB):                        0.795\n",
      "Kurtosis:                       2.042   Cond. No.                         133.\n",
      "==============================================================================\n",
      "\n",
      "Warnings:\n",
      "[1] Standard Errors assume that the covariance matrix of the errors is correctly specified.\n"
     ]
    }
   ],
   "source": [
    "X2 = antelope_df[[\n",
    "    \"adult_antelope_population\",\n",
    "    \"low_precipitation\"\n",
    "]]\n",
    "X2 = sm.add_constant(X2)\n",
    "\n",
    "model2 = sm.OLS(y, X2)\n",
    "results2 = model2.fit()\n",
    "print(results2.summary())"
   ]
  },
  {
   "cell_type": "markdown",
   "metadata": {},
   "source": [
    "## Comparing Model 1 and Model 2\n",
    "\n",
    "We have added another feature, which has impacted all of the coefficients\n",
    "\n",
    " - `const` went from -1.6791 to -1.1163\n",
    " - `adult_antelope_population` went from 0.4975 to 0.4396\n",
    "\n",
    "Our r-squared improved, so it seems like these coefficients changed \"for the better\", becoming a better representation of the \"true\" coefficients.\n",
    "\n",
    "We could interpret this model as saying _each additional 100 antelopes is associated with an increase of 44 (rounded from 43.96) spring fawns, and low precipitation is associated with a decrease of 15 (rounded from 14.66) spring fawns_"
   ]
  },
  {
   "cell_type": "markdown",
   "metadata": {},
   "source": [
    "## Model 3\n",
    "\n",
    "And then let's do the opposite, adding the `high_precipitation` feature instead"
   ]
  },
  {
   "cell_type": "code",
   "execution_count": 11,
   "metadata": {},
   "outputs": [
    {
     "name": "stdout",
     "output_type": "stream",
     "text": [
      "                            OLS Regression Results                            \n",
      "==============================================================================\n",
      "Dep. Variable:      spring_fawn_count   R-squared:                       0.888\n",
      "Model:                            OLS   Adj. R-squared:                  0.844\n",
      "Method:                 Least Squares   F-statistic:                     19.88\n",
      "Date:                Tue, 03 Dec 2019   Prob (F-statistic):            0.00417\n",
      "Time:                        17:10:18   Log-Likelihood:                 2.4459\n",
      "No. Observations:                   8   AIC:                             1.108\n",
      "Df Residuals:                       5   BIC:                             1.346\n",
      "Df Model:                           2                                         \n",
      "Covariance Type:            nonrobust                                         \n",
      "=============================================================================================\n",
      "                                coef    std err          t      P>|t|      [0.025      0.975]\n",
      "---------------------------------------------------------------------------------------------\n",
      "const                        -1.2629      1.005     -1.256      0.265      -3.847       1.322\n",
      "adult_antelope_population     0.4396      0.131      3.366      0.020       0.104       0.775\n",
      "high_precipitation            0.1466      0.263      0.558      0.601      -0.529       0.822\n",
      "==============================================================================\n",
      "Omnibus:                        0.411   Durbin-Watson:                   2.269\n",
      "Prob(Omnibus):                  0.814   Jarque-Bera (JB):                0.459\n",
      "Skew:                          -0.338   Prob(JB):                        0.795\n",
      "Kurtosis:                       2.042   Cond. No.                         111.\n",
      "==============================================================================\n",
      "\n",
      "Warnings:\n",
      "[1] Standard Errors assume that the covariance matrix of the errors is correctly specified.\n"
     ]
    }
   ],
   "source": [
    "X3 = antelope_df[[\n",
    "    \"adult_antelope_population\",\n",
    "    \"high_precipitation\"\n",
    "]]\n",
    "X3 = sm.add_constant(X3)\n",
    "\n",
    "model3 = sm.OLS(y, X3)\n",
    "results3= model3.fit()\n",
    "print(results3.summary())"
   ]
  },
  {
   "cell_type": "markdown",
   "metadata": {},
   "source": [
    "## Comparing Model 2 and Model 3\n",
    "\n",
    "Here we substituted one feature for another feature, which theoretically should provide identical information (the 0s have just become 1s)\n",
    "\n",
    "Coefficient updates:\n",
    "\n",
    " - `const` went from -1.1163 to -1.2629\n",
    " - `adult_antelope_population` stayed the same at 0.4396\n",
    " - `high_precipitation` is now 0.1466 (whereas its inverse `low_precipitation` was -0.1466)\n",
    " \n",
    "So, what can this tell us about the difference when you drop one vs. the other?\n",
    "\n",
    "1. Either way, the `adult_antelope_population` coefficient does not change\n",
    "2. The `const` coefficient does change, because the meaning of \"all the features are zero\" has changed, but I would argue that this was never a particularly interpretable thing to start with\n",
    "3. By inverting the 1s and 0s, the precipitation coefficient is pointing in the opposite direction\n",
    "\n",
    "We could interpret this model as saying _each additional 100 antelopes is associated with an increase of 44 (rounded from 43.96) spring fawns, and high precipitation is associated with a increase of 15 (rounded from 14.66) spring fawns_"
   ]
  },
  {
   "cell_type": "markdown",
   "metadata": {},
   "source": [
    "### So, what does this mean about a single dropped categorical variable?\n",
    "\n",
    "First, the intercept changes, because the meaning of \"all the feature are zero\" has changed.  If one or the other seems more like a true \"null hypothesis\", it might make more sense for it to be the dropped one.\n",
    "\n",
    "Second, the coefficient flips depending on the framing.  So, if you used the feature `high_precipitation` in the model, and someone wants to know \"what is the impact of low precipitation?\", you can give the coefficient for `high_precipitation` * -1"
   ]
  },
  {
   "cell_type": "markdown",
   "metadata": {},
   "source": [
    "## Model 4\n",
    "\n",
    "Now, instead of adding a feature to `adult_antelope_population` that can be represented by 1 column (2 categories), let's add one that needs 4 columns (5 categories)."
   ]
  },
  {
   "cell_type": "code",
   "execution_count": 12,
   "metadata": {},
   "outputs": [
    {
     "data": {
      "text/plain": [
       "Index([        'spring_fawn_count', 'adult_antelope_population',\n",
       "               'low_precipitation',        'high_precipitation',\n",
       "                                 1,                           2,\n",
       "                                 3,                           4,\n",
       "                                 5],\n",
       "      dtype='object')"
      ]
     },
     "execution_count": 12,
     "metadata": {},
     "output_type": "execute_result"
    }
   ],
   "source": [
    "antelope_df.columns"
   ]
  },
  {
   "cell_type": "code",
   "execution_count": 13,
   "metadata": {},
   "outputs": [
    {
     "name": "stdout",
     "output_type": "stream",
     "text": [
      "                            OLS Regression Results                            \n",
      "==============================================================================\n",
      "Dep. Variable:      spring_fawn_count   R-squared:                       0.982\n",
      "Model:                            OLS   Adj. R-squared:                  0.938\n",
      "Method:                 Least Squares   F-statistic:                     22.15\n",
      "Date:                Tue, 03 Dec 2019   Prob (F-statistic):             0.0438\n",
      "Time:                        17:34:26   Log-Likelihood:                 9.8065\n",
      "No. Observations:                   8   AIC:                            -7.613\n",
      "Df Residuals:                       2   BIC:                            -7.136\n",
      "Df Model:                           5                                         \n",
      "Covariance Type:            nonrobust                                         \n",
      "=============================================================================================\n",
      "                                coef    std err          t      P>|t|      [0.025      0.975]\n",
      "---------------------------------------------------------------------------------------------\n",
      "const                        -3.2132      1.069     -3.006      0.095      -7.812       1.386\n",
      "adult_antelope_population     0.6818      0.109      6.243      0.025       0.212       1.152\n",
      "2                            -0.2205      0.197     -1.118      0.380      -1.069       0.628\n",
      "3                            -0.1743      0.195     -0.893      0.466      -1.014       0.665\n",
      "4                             0.3044      0.339      0.898      0.464      -1.154       1.763\n",
      "5                             0.4771      0.375      1.272      0.331      -1.137       2.091\n",
      "==============================================================================\n",
      "Omnibus:                        1.784   Durbin-Watson:                   2.219\n",
      "Prob(Omnibus):                  0.410   Jarque-Bera (JB):                0.577\n",
      "Skew:                          -0.649   Prob(JB):                        0.749\n",
      "Kurtosis:                       2.785   Cond. No.                         201.\n",
      "==============================================================================\n",
      "\n",
      "Warnings:\n",
      "[1] Standard Errors assume that the covariance matrix of the errors is correctly specified.\n"
     ]
    }
   ],
   "source": [
    "X4 = antelope_df[[\n",
    "    \"adult_antelope_population\",\n",
    "    # drop 1\n",
    "    2, 3, 4, 5\n",
    "]]\n",
    "X4 = sm.add_constant(X4)\n",
    "\n",
    "model4 = sm.OLS(y, X4)\n",
    "results4= model4.fit()\n",
    "print(results4.summary())"
   ]
  },
  {
   "cell_type": "markdown",
   "metadata": {},
   "source": [
    "So, the following statements would be reasonable interpretations:\n",
    "\n",
    "_A weather index of 2 is associated with 22 fewer spring fawns, compared to a weather index of 1_\n",
    "\n",
    "_A weather index of 3 is associated with 17 fewer spring fawns, compared to a weather index of 1_\n",
    "\n",
    "_A weather index of 4 is associated with 30 more spring fawns, compared to a weather index of 1_\n",
    "\n",
    "_A weather index of 5 is associated with 48 more spring fawns, compared to a weather index of 1_"
   ]
  },
  {
   "cell_type": "markdown",
   "metadata": {},
   "source": [
    "But what if someone asks \"what is the impact of weather index 1?\""
   ]
  },
  {
   "cell_type": "markdown",
   "metadata": {},
   "source": [
    "## Model 5, 6, 7, 8\n",
    "\n",
    "Let's drop each of the other columns in turn"
   ]
  },
  {
   "cell_type": "code",
   "execution_count": 15,
   "metadata": {},
   "outputs": [
    {
     "name": "stdout",
     "output_type": "stream",
     "text": [
      "                            OLS Regression Results                            \n",
      "==============================================================================\n",
      "Dep. Variable:      spring_fawn_count   R-squared:                       0.982\n",
      "Model:                            OLS   Adj. R-squared:                  0.938\n",
      "Method:                 Least Squares   F-statistic:                     22.15\n",
      "Date:                Tue, 03 Dec 2019   Prob (F-statistic):             0.0438\n",
      "Time:                        17:40:20   Log-Likelihood:                 9.8065\n",
      "No. Observations:                   8   AIC:                            -7.613\n",
      "Df Residuals:                       2   BIC:                            -7.136\n",
      "Df Model:                           5                                         \n",
      "Covariance Type:            nonrobust                                         \n",
      "=============================================================================================\n",
      "                                coef    std err          t      P>|t|      [0.025      0.975]\n",
      "---------------------------------------------------------------------------------------------\n",
      "const                        -3.4337      0.972     -3.534      0.072      -7.615       0.747\n",
      "adult_antelope_population     0.6818      0.109      6.243      0.025       0.212       1.152\n",
      "1                             0.2205      0.197      1.118      0.380      -0.628       1.069\n",
      "3                             0.0462      0.130      0.355      0.757      -0.514       0.607\n",
      "4                             0.5249      0.250      2.096      0.171      -0.553       1.603\n",
      "5                             0.6976      0.284      2.461      0.133      -0.522       1.918\n",
      "==============================================================================\n",
      "Omnibus:                        1.784   Durbin-Watson:                   2.219\n",
      "Prob(Omnibus):                  0.410   Jarque-Bera (JB):                0.577\n",
      "Skew:                          -0.649   Prob(JB):                        0.749\n",
      "Kurtosis:                       2.785   Cond. No.                         176.\n",
      "==============================================================================\n",
      "\n",
      "Warnings:\n",
      "[1] Standard Errors assume that the covariance matrix of the errors is correctly specified.\n"
     ]
    }
   ],
   "source": [
    "X5 = antelope_df[[\n",
    "    \"adult_antelope_population\",\n",
    "    # drop 2\n",
    "    1, 3, 4, 5\n",
    "]]\n",
    "X5 = sm.add_constant(X5)\n",
    "\n",
    "model5 = sm.OLS(y, X5)\n",
    "results5= model5.fit()\n",
    "print(results5.summary())"
   ]
  },
  {
   "cell_type": "code",
   "execution_count": 17,
   "metadata": {},
   "outputs": [
    {
     "name": "stdout",
     "output_type": "stream",
     "text": [
      "                            OLS Regression Results                            \n",
      "==============================================================================\n",
      "Dep. Variable:      spring_fawn_count   R-squared:                       0.982\n",
      "Model:                            OLS   Adj. R-squared:                  0.938\n",
      "Method:                 Least Squares   F-statistic:                     22.15\n",
      "Date:                Tue, 03 Dec 2019   Prob (F-statistic):             0.0438\n",
      "Time:                        17:41:18   Log-Likelihood:                 9.8065\n",
      "No. Observations:                   8   AIC:                            -7.613\n",
      "Df Residuals:                       2   BIC:                            -7.136\n",
      "Df Model:                           5                                         \n",
      "Covariance Type:            nonrobust                                         \n",
      "=============================================================================================\n",
      "                                coef    std err          t      P>|t|      [0.025      0.975]\n",
      "---------------------------------------------------------------------------------------------\n",
      "const                        -3.3875      0.957     -3.539      0.071      -7.506       0.731\n",
      "adult_antelope_population     0.6818      0.109      6.243      0.025       0.212       1.152\n",
      "1                             0.1743      0.195      0.893      0.466      -0.665       1.014\n",
      "2                            -0.0462      0.130     -0.355      0.757      -0.607       0.514\n",
      "4                             0.4787      0.234      2.042      0.178      -0.530       1.487\n",
      "5                             0.6514      0.267      2.436      0.135      -0.499       1.802\n",
      "==============================================================================\n",
      "Omnibus:                        1.784   Durbin-Watson:                   2.219\n",
      "Prob(Omnibus):                  0.410   Jarque-Bera (JB):                0.577\n",
      "Skew:                          -0.649   Prob(JB):                        0.749\n",
      "Kurtosis:                       2.785   Cond. No.                         172.\n",
      "==============================================================================\n",
      "\n",
      "Warnings:\n",
      "[1] Standard Errors assume that the covariance matrix of the errors is correctly specified.\n"
     ]
    }
   ],
   "source": [
    "X6 = antelope_df[[\n",
    "    \"adult_antelope_population\",\n",
    "    # drop 3\n",
    "    1, 2, 4, 5\n",
    "]]\n",
    "X6 = sm.add_constant(X6)\n",
    "\n",
    "model6 = sm.OLS(y, X6)\n",
    "results6= model6.fit()\n",
    "print(results6.summary())"
   ]
  },
  {
   "cell_type": "code",
   "execution_count": 20,
   "metadata": {},
   "outputs": [
    {
     "name": "stdout",
     "output_type": "stream",
     "text": [
      "                            OLS Regression Results                            \n",
      "==============================================================================\n",
      "Dep. Variable:      spring_fawn_count   R-squared:                       0.982\n",
      "Model:                            OLS   Adj. R-squared:                  0.938\n",
      "Method:                 Least Squares   F-statistic:                     22.15\n",
      "Date:                Tue, 03 Dec 2019   Prob (F-statistic):             0.0438\n",
      "Time:                        18:13:14   Log-Likelihood:                 9.8065\n",
      "No. Observations:                   8   AIC:                            -7.613\n",
      "Df Residuals:                       2   BIC:                            -7.136\n",
      "Df Model:                           5                                         \n",
      "Covariance Type:            nonrobust                                         \n",
      "=============================================================================================\n",
      "                                coef    std err          t      P>|t|      [0.025      0.975]\n",
      "---------------------------------------------------------------------------------------------\n",
      "const                        -2.9088      0.799     -3.640      0.068      -6.347       0.529\n",
      "adult_antelope_population     0.6818      0.109      6.243      0.025       0.212       1.152\n",
      "1                            -0.3044      0.339     -0.898      0.464      -1.763       1.154\n",
      "2                            -0.5249      0.250     -2.096      0.171      -1.603       0.553\n",
      "3                            -0.4787      0.234     -2.042      0.178      -1.487       0.530\n",
      "5                             0.1727      0.206      0.840      0.489      -0.712       1.057\n",
      "==============================================================================\n",
      "Omnibus:                        1.784   Durbin-Watson:                   2.219\n",
      "Prob(Omnibus):                  0.410   Jarque-Bera (JB):                0.577\n",
      "Skew:                          -0.649   Prob(JB):                        0.749\n",
      "Kurtosis:                       2.785   Cond. No.                         150.\n",
      "==============================================================================\n",
      "\n",
      "Warnings:\n",
      "[1] Standard Errors assume that the covariance matrix of the errors is correctly specified.\n"
     ]
    }
   ],
   "source": [
    "X7 = antelope_df[[\n",
    "    \"adult_antelope_population\",\n",
    "    # drop 4\n",
    "    1, 2, 3, 5\n",
    "]]\n",
    "X7 = sm.add_constant(X7)\n",
    "\n",
    "model7 = sm.OLS(y, X7)\n",
    "results7= model7.fit()\n",
    "print(results7.summary())"
   ]
  },
  {
   "cell_type": "code",
   "execution_count": 19,
   "metadata": {},
   "outputs": [
    {
     "name": "stdout",
     "output_type": "stream",
     "text": [
      "                            OLS Regression Results                            \n",
      "==============================================================================\n",
      "Dep. Variable:      spring_fawn_count   R-squared:                       0.982\n",
      "Model:                            OLS   Adj. R-squared:                  0.938\n",
      "Method:                 Least Squares   F-statistic:                     22.15\n",
      "Date:                Tue, 03 Dec 2019   Prob (F-statistic):             0.0438\n",
      "Time:                        17:42:06   Log-Likelihood:                 9.8065\n",
      "No. Observations:                   8   AIC:                            -7.613\n",
      "Df Residuals:                       2   BIC:                            -7.136\n",
      "Df Model:                           5                                         \n",
      "Covariance Type:            nonrobust                                         \n",
      "=============================================================================================\n",
      "                                coef    std err          t      P>|t|      [0.025      0.975]\n",
      "---------------------------------------------------------------------------------------------\n",
      "const                        -2.7361      0.756     -3.619      0.069      -5.989       0.517\n",
      "adult_antelope_population     0.6818      0.109      6.243      0.025       0.212       1.152\n",
      "1                            -0.4771      0.375     -1.272      0.331      -2.091       1.137\n",
      "2                            -0.6976      0.284     -2.461      0.133      -1.918       0.522\n",
      "3                            -0.6514      0.267     -2.436      0.135      -1.802       0.499\n",
      "4                            -0.1727      0.206     -0.840      0.489      -1.057       0.712\n",
      "==============================================================================\n",
      "Omnibus:                        1.784   Durbin-Watson:                   2.219\n",
      "Prob(Omnibus):                  0.410   Jarque-Bera (JB):                0.577\n",
      "Skew:                          -0.649   Prob(JB):                        0.749\n",
      "Kurtosis:                       2.785   Cond. No.                         149.\n",
      "==============================================================================\n",
      "\n",
      "Warnings:\n",
      "[1] Standard Errors assume that the covariance matrix of the errors is correctly specified.\n"
     ]
    }
   ],
   "source": [
    "X8 = antelope_df[[\n",
    "    \"adult_antelope_population\",\n",
    "    # drop 5\n",
    "    1, 2, 3, 4\n",
    "]]\n",
    "X8 = sm.add_constant(X8)\n",
    "\n",
    "model8 = sm.OLS(y, X8)\n",
    "results8= model8.fit()\n",
    "print(results8.summary())"
   ]
  },
  {
   "cell_type": "markdown",
   "metadata": {},
   "source": [
    "## Comparing 4, 5, 6, 7, 8\n",
    "\n",
    "To summarize:\n",
    "\n",
    " - In all cases, the `adult_antelope_population` coefficient did not change, which is consistent with the idea that the model has the same information, no matter which column was dropped\n",
    " - The `const` coefficients changed each time\n",
    " - The relative coefficients looked like this:\n",
    " \n",
    "| Baseline | 1       | 2       | 3       | 4       | 5      |\n",
    "| -------- | ------- | ------- | ------- | ------- | ------ |\n",
    "| 1        |         | -0.2205 | -0.1743 |  0.3044 | 0.4771 |\n",
    "| 2        |  0.2205 |         |  0.0462 |  0.5249 | 0.6976 |\n",
    "| 3        |  0.1743 | -0.0462 |         |  0.4787 | 0.6514 |\n",
    "| 4        | -0.3044 | -0.5249 | -0.4787 |         | 0.1727 |\n",
    "| 5        | -0.4771 | -0.6976 | -0.1727 | -0.1727 |        |"
   ]
  },
  {
   "cell_type": "markdown",
   "metadata": {},
   "source": [
    "It's a more complicated pattern, but still fundamentally the same as when there were only two categories\n",
    "\n",
    "Previously, we could just flip the sign of the coefficient as we flipped the baseline, but now there are as many possible baselines as there are categories\n",
    "\n",
    "So if someone asks \"what is the impact of weather index 1?\", you need to ask \"against which baseline?\"\n",
    "\n",
    " - If 2 is the new baseline, flip the coefficient of index 2 with baseline 1, i.e. 0.2205 * (-1) = -0.2205\n",
    " - If 3 is the new baseline, flip the coefficient of index 3 with baseline 1, i.e. 0.1743 * (-1) = -0.1743\n",
    " - If 4 is the new baseline, flip the coefficient of index 4 with baseline 1, i.e. -0.3044 * (-1) = 0.3044\n",
    " - If 5 is the new baseline, flip the coefficient of index 5 with baseline 1, i.e. -0.4771 * (-1) = 0.4771"
   ]
  },
  {
   "cell_type": "markdown",
   "metadata": {},
   "source": [
    "## A Final Note on Multiple Dropped Categorical Variable Features\n",
    "\n",
    "A question came up, _does it really make sense to have more than one dropped categorical feature at once?_\n",
    "\n",
    "Well, whichever category you choose to drop is encoded as a baseline that the other categories diverge from.  So, your model might be more interpretable if you intentionally choose which categories to drop rather than just dropping the first one, but any combination of categories can be a baseline as far as the model is concerned."
   ]
  },
  {
   "cell_type": "markdown",
   "metadata": {},
   "source": [
    "Here's a model where the baseline is \"not low precipitation and weather index 5\":"
   ]
  },
  {
   "cell_type": "code",
   "execution_count": 21,
   "metadata": {},
   "outputs": [
    {
     "name": "stdout",
     "output_type": "stream",
     "text": [
      "                            OLS Regression Results                            \n",
      "==============================================================================\n",
      "Dep. Variable:      spring_fawn_count   R-squared:                       0.986\n",
      "Model:                            OLS   Adj. R-squared:                  0.901\n",
      "Method:                 Least Squares   F-statistic:                     11.59\n",
      "Date:                Wed, 04 Dec 2019   Prob (F-statistic):              0.221\n",
      "Time:                        10:25:25   Log-Likelihood:                 10.702\n",
      "No. Observations:                   8   AIC:                            -7.405\n",
      "Df Residuals:                       1   BIC:                            -6.849\n",
      "Df Model:                           6                                         \n",
      "Covariance Type:            nonrobust                                         \n",
      "=============================================================================================\n",
      "                                coef    std err          t      P>|t|      [0.025      0.975]\n",
      "---------------------------------------------------------------------------------------------\n",
      "const                        -1.8810      1.956     -0.962      0.512     -26.736      22.974\n",
      "adult_antelope_population     0.5841      0.239      2.444      0.247      -2.452       3.620\n",
      "low_precipitation            -0.1907      0.381     -0.501      0.704      -5.027       4.645\n",
      "1                            -0.3845      0.509     -0.755      0.588      -6.852       6.083\n",
      "2                            -0.6881      0.359     -1.917      0.306      -5.250       3.874\n",
      "3                            -0.5261      0.421     -1.251      0.429      -5.869       4.817\n",
      "4                            -0.1336      0.271     -0.492      0.709      -3.582       3.315\n",
      "==============================================================================\n",
      "Omnibus:                        0.094   Durbin-Watson:                   1.996\n",
      "Prob(Omnibus):                  0.954   Jarque-Bera (JB):                0.310\n",
      "Skew:                          -0.000   Prob(JB):                        0.856\n",
      "Kurtosis:                       2.035   Cond. No.                         279.\n",
      "==============================================================================\n",
      "\n",
      "Warnings:\n",
      "[1] Standard Errors assume that the covariance matrix of the errors is correctly specified.\n"
     ]
    }
   ],
   "source": [
    "X9 = antelope_df[[\n",
    "    \"adult_antelope_population\",\n",
    "    \"low_precipitation\",\n",
    "    # drop 5\n",
    "    1, 2, 3, 4\n",
    "]]\n",
    "X9 = sm.add_constant(X9)\n",
    "\n",
    "model9 = sm.OLS(y, X9)\n",
    "results9 = model9.fit()\n",
    "print(results9.summary())"
   ]
  },
  {
   "cell_type": "markdown",
   "metadata": {},
   "source": [
    "And here's a model where the baseline is \"not high precipitation and weather index 5\":"
   ]
  },
  {
   "cell_type": "code",
   "execution_count": 22,
   "metadata": {},
   "outputs": [
    {
     "name": "stdout",
     "output_type": "stream",
     "text": [
      "                            OLS Regression Results                            \n",
      "==============================================================================\n",
      "Dep. Variable:      spring_fawn_count   R-squared:                       0.986\n",
      "Model:                            OLS   Adj. R-squared:                  0.901\n",
      "Method:                 Least Squares   F-statistic:                     11.59\n",
      "Date:                Wed, 04 Dec 2019   Prob (F-statistic):              0.221\n",
      "Time:                        10:27:25   Log-Likelihood:                 10.702\n",
      "No. Observations:                   8   AIC:                            -7.405\n",
      "Df Residuals:                       1   BIC:                            -6.849\n",
      "Df Model:                           6                                         \n",
      "Covariance Type:            nonrobust                                         \n",
      "=============================================================================================\n",
      "                                coef    std err          t      P>|t|      [0.025      0.975]\n",
      "---------------------------------------------------------------------------------------------\n",
      "const                        -2.0717      1.635     -1.267      0.425     -22.842      18.699\n",
      "adult_antelope_population     0.5841      0.239      2.444      0.247      -2.452       3.620\n",
      "high_precipitation            0.1907      0.381      0.501      0.704      -4.645       5.027\n",
      "1                            -0.3845      0.509     -0.755      0.588      -6.852       6.083\n",
      "2                            -0.6881      0.359     -1.917      0.306      -5.250       3.874\n",
      "3                            -0.5261      0.421     -1.251      0.429      -5.869       4.817\n",
      "4                            -0.1336      0.271     -0.492      0.709      -3.582       3.315\n",
      "==============================================================================\n",
      "Omnibus:                        0.094   Durbin-Watson:                   1.996\n",
      "Prob(Omnibus):                  0.954   Jarque-Bera (JB):                0.310\n",
      "Skew:                           0.000   Prob(JB):                        0.856\n",
      "Kurtosis:                       2.035   Cond. No.                         239.\n",
      "==============================================================================\n",
      "\n",
      "Warnings:\n",
      "[1] Standard Errors assume that the covariance matrix of the errors is correctly specified.\n"
     ]
    }
   ],
   "source": [
    "X10 = antelope_df[[\n",
    "    \"adult_antelope_population\",\n",
    "    \"high_precipitation\",\n",
    "    # drop 5\n",
    "    1, 2, 3, 4\n",
    "]]\n",
    "X10 = sm.add_constant(X10)\n",
    "\n",
    "model10 = sm.OLS(y, X10)\n",
    "results10 = model10.fit()\n",
    "print(results10.summary())"
   ]
  },
  {
   "cell_type": "markdown",
   "metadata": {},
   "source": [
    "The `const` coefficient has changed, and the the `high_precipitation` coefficient has flipped from the sign of the `low_precipitation` coefficient, but the coefficients of the weather indices have not changed, because you did not modify the baseline with respect to them, you only modified the baseline with respect to the precipitation feature."
   ]
  },
  {
   "cell_type": "code",
   "execution_count": null,
   "metadata": {},
   "outputs": [],
   "source": []
  }
 ],
 "metadata": {
  "kernelspec": {
   "display_name": "Python 3",
   "language": "python",
   "name": "python3"
  },
  "language_info": {
   "codemirror_mode": {
    "name": "ipython",
    "version": 3
   },
   "file_extension": ".py",
   "mimetype": "text/x-python",
   "name": "python",
   "nbconvert_exporter": "python",
   "pygments_lexer": "ipython3",
   "version": "3.8.0"
  }
 },
 "nbformat": 4,
 "nbformat_minor": 4
}
